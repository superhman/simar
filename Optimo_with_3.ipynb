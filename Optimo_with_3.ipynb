{
 "cells": [
  {
   "cell_type": "code",
   "execution_count": 4,
   "metadata": {},
   "outputs": [
    {
     "ename": "SyntaxError",
     "evalue": "invalid syntax (<ipython-input-4-2022595827c5>, line 67)",
     "output_type": "error",
     "traceback": [
      "\u001b[1;36m  File \u001b[1;32m\"<ipython-input-4-2022595827c5>\"\u001b[1;36m, line \u001b[1;32m67\u001b[0m\n\u001b[1;33m    while counter = 3:\u001b[0m\n\u001b[1;37m                  ^\u001b[0m\n\u001b[1;31mSyntaxError\u001b[0m\u001b[1;31m:\u001b[0m invalid syntax\n"
     ]
    }
   ],
   "source": [
    "import pandas as pd\n",
    "from pandas import DataFrame\n",
    "import numpy as np\n",
    "import yfinance as yf\n",
    "import matplotlib.pyplot as plt\n",
    "from itertools import permutations\n",
    "\n",
    "data=yf.download(\"VBIV\",start='2019-01-01',end='2020-03-29')\n",
    "\n",
    "#data=data.reset_index()\n",
    "\n",
    "\n",
    "ma_list = [2,4,6,8,10,12,14]\n",
    "perm=permutations([2,4,6,8,10,12,14],2)\n",
    "\n",
    "pct_c=data.Close.pct_change\n",
    "\n",
    "\n",
    "ma_array=[]\n",
    "\n",
    "for i in list(perm):\n",
    "    x,y = i\n",
    "    if x > y:\n",
    "        continue\n",
    "    ma_array.append(i)\n",
    "\n",
    "# calculate all the difference moving averages and store\n",
    "shortma=[]\n",
    "longma=[]\n",
    "\n",
    "for i,j in ma_array:\n",
    "    shortma.append(data.Close.rolling(window=i).mean())\n",
    "    longma.append(data.Close.rolling(window=j).mean())\n",
    "\n",
    "# create new list to contain results\n",
    "diff=[]\n",
    "zip_object=zip(shortma,longma)\n",
    "for shortma_i,longma_j in zip_object:\n",
    "    diff.append(shortma_i-longma_j)\n",
    "\n",
    "#Create DataFrame with difference of SMA-LMA/If (+) then SMA > LMA\n",
    "data1=pd.DataFrame(index=data.index)\n",
    "data1=pd.DataFrame(diff)\n",
    "data1=np.transpose(data1)\n",
    "data1.columns=ma_array\n",
    "\n",
    "# change df values to rep 1 if +, 0 if -\n",
    "for col in data1.columns:\n",
    "    data1[col] = np.where(data1[col] > 0, 1, 0)\n",
    "\n",
    "data1.reset_index(inplace = True)\n",
    "data.reset_index(inplace = True)\n",
    "\n",
    "data2 = data1.copy()\n",
    "\n",
    "for col in data1.columns:\n",
    "    if (col == 'Date'):\n",
    "        continue\n",
    "       \n",
    "    flag = 0\n",
    "    idx = 0\n",
    "    buy = 0\n",
    "    counter = 0\n",
    "   \n",
    "    arr = np.array([])\n",
    "   \n",
    "    while counter = 3:\n",
    "        for val in data1[col]:\n",
    "        \n",
    "            if ((val == 0) & (flag == 0)):\n",
    "                arr = np.append(arr, [np.nan])\n",
    "            elif ((val == 1) & (flag == 0)):\n",
    "                flag = 1\n",
    "                buy = data['Close'][idx]\n",
    "                arr = np.append(arr, 0)\n",
    "            elif ((val == 0) & (flag == 1)):\n",
    "                flag = 0\n",
    "                arr = np.append(arr, [np.nan])\n",
    "            elif ((val == 1) & (flag == 1)):\n",
    "                val = ((data['Close'][idx] - buy)/buy) * 100\n",
    "                arr = np.append(arr, val)\n",
    "                counter +=1\n",
    "                pass\n",
    "       \n",
    "        \n",
    "            \n",
    "       \n",
    "       \n",
    "            idx += 1\n",
    "       \n",
    "    data2[col] = arr\n",
    "\n",
    "    \n",
    "\n",
    "export_csv=data2.to_csv(r'C:\\Users\\hsman\\Desktop\\Python\\practice\\mine.csv',index=True,header=True)\n",
    "export_csv=data.to_csv(r'C:\\Users\\hsman\\Desktop\\Python\\practice\\testf.csv',index=True,header=True)\n",
    "\n",
    "\n",
    "#data1=pd.DataFrame(diff,index=data.Date)\n",
    "#data1.set_index(data.Date)\n",
    "    \n",
    "#short_ma = np.linspace(10,60,25,dtype=int)\n",
    "#long_ma = np.linspace(100, 200, 25, dtype=int)\n",
    "\n",
    "\n",
    "\n",
    "\n",
    "\n"
   ]
  },
  {
   "cell_type": "code",
   "execution_count": 17,
   "metadata": {},
   "outputs": [
    {
     "data": {
      "text/plain": [
       "311    0.9305\n",
       "Name: Close, dtype: float64"
      ]
     },
     "execution_count": 17,
     "metadata": {},
     "output_type": "execute_result"
    }
   ],
   "source": [
    "data.Close.tail(1)\n"
   ]
  },
  {
   "cell_type": "code",
   "execution_count": 19,
   "metadata": {},
   "outputs": [
    {
     "data": {
      "text/plain": [
       "(2, 14)     30.309149\n",
       "(4, 14)     30.020538\n",
       "(4, 12)     29.975135\n",
       "(6, 12)     29.740762\n",
       "(2, 10)     29.481773\n",
       "(6, 14)     29.402591\n",
       "(2, 12)     29.328837\n",
       "(4, 10)     29.017514\n",
       "(8, 14)     24.357499\n",
       "(8, 12)     23.863553\n",
       "(12, 14)    23.723358\n",
       "(10, 14)    20.430787\n",
       "(6, 10)     12.681864\n",
       "(8, 10)     11.133025\n",
       "(4, 8)       8.893769\n",
       "(2, 8)       8.591628\n",
       "(6, 8)       7.896068\n",
       "(10, 12)     7.565731\n",
       "(2, 6)       7.173092\n",
       "(4, 6)       6.256444\n",
       "(2, 4)       5.288293\n",
       "dtype: float64"
      ]
     },
     "execution_count": 19,
     "metadata": {},
     "output_type": "execute_result"
    }
   ],
   "source": [
    "data3=data2.mean()\n",
    "data3.sort_values(ascending=False)\n"
   ]
  }
 ],
 "metadata": {
  "kernelspec": {
   "display_name": "Python 3",
   "language": "python",
   "name": "python3"
  },
  "language_info": {
   "codemirror_mode": {
    "name": "ipython",
    "version": 3
   },
   "file_extension": ".py",
   "mimetype": "text/x-python",
   "name": "python",
   "nbconvert_exporter": "python",
   "pygments_lexer": "ipython3",
   "version": "3.7.4"
  }
 },
 "nbformat": 4,
 "nbformat_minor": 2
}
