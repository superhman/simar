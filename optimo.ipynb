{
 "cells": [
  {
   "cell_type": "code",
   "execution_count": 1,
   "metadata": {},
   "outputs": [
    {
     "name": "stdout",
     "output_type": "stream",
     "text": [
      "[*********************100%***********************]  1 of 1 completed\n"
     ]
    }
   ],
   "source": [
    "import pandas as pd\n",
    "from pandas import DataFrame\n",
    "import numpy as np\n",
    "import yfinance as yf\n",
    "import matplotlib.pyplot as plt\n",
    "from itertools import permutations\n",
    "\n",
    "data=yf.download(\"FDX\",start='2019-01-01',end='2020-03-01')\n",
    "#data=data.reset_index()\n",
    "\n",
    "\n",
    "ma_list = [10,20,30,100,150,200]\n",
    "perm=permutations([10,20,30,100,150,200],2)\n",
    "pct_c=data.Close.pct_change\n",
    "\n",
    "\n",
    "ma_array=[]\n",
    "\n",
    "for i in list(perm):\n",
    "    x,y = i\n",
    "    if x > y:\n",
    "        continue\n",
    "    ma_array.append(i)\n",
    "\n",
    "# calculate all the difference moving averages and store \n",
    "shortma=[]\n",
    "longma=[]\n",
    "\n",
    "for i,j in ma_array:\n",
    "    shortma.append(data.Close.rolling(window=i).mean())\n",
    "    longma.append(data.Close.rolling(window=j).mean())\n",
    "\n",
    "# create new list to contain results\n",
    "diff=[]\n",
    "zip_object=zip(shortma,longma)\n",
    "for shortma_i,longma_j in zip_object:\n",
    "    diff.append(shortma_i-longma_j)\n",
    "\n",
    "#Create DataFrame with difference of SMA-LMA/If (+) then SMA > LMA\n",
    "data1=pd.DataFrame(index=data.index)\n",
    "data1=pd.DataFrame(diff)\n",
    "data1=np.transpose(data1)\n",
    "data1.columns=ma_array\n",
    "\n",
    "#Calculate % change if SMA > LMA\n",
    "#convert array into dataframe?\n",
    "pct=np.where(data1 > 0, pct_c,\"0\")\n",
    "\n",
    "   \n",
    "    \n",
    "\n",
    "\n",
    "export_csv=data1.to_csv(r'C:\\Users\\hsman\\Desktop\\Python\\practice\\mine.csv',index=True,header=True)\n",
    "\n",
    "#data1=pd.DataFrame(diff,index=data.Date)\n",
    "#data1.set_index(data.Date)\n",
    "    \n",
    "#short_ma = np.linspace(10,60,25,dtype=int)\n",
    "#long_ma = np.linspace(100, 200, 25, dtype=int)\n",
    "\n",
    "\n",
    "\n",
    "\n",
    "\n"
   ]
  }
 ],
 "metadata": {
  "kernelspec": {
   "display_name": "Python 3",
   "language": "python",
   "name": "python3"
  },
  "language_info": {
   "codemirror_mode": {
    "name": "ipython",
    "version": 3
   },
   "file_extension": ".py",
   "mimetype": "text/x-python",
   "name": "python",
   "nbconvert_exporter": "python",
   "pygments_lexer": "ipython3",
   "version": "3.7.4"
  }
 },
 "nbformat": 4,
 "nbformat_minor": 2
}
